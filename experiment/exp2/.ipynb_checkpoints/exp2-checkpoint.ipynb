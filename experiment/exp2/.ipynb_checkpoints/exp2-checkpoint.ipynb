{
 "cells": [
  {
   "cell_type": "markdown",
   "id": "9b434e03-b7bc-4276-950f-78ebc8a7dc49",
   "metadata": {
    "tags": []
   },
   "source": [
    "# 实验二 非线性方程求解（一）"
   ]
  },
  {
   "cell_type": "markdown",
   "id": "1b202a7e-8883-4e5d-b973-32847a7ba974",
   "metadata": {},
   "source": [
    "## 实验内容"
   ]
  },
  {
   "cell_type": "markdown",
   "id": "726c6004-a368-41bc-b251-68cff44339a5",
   "metadata": {},
   "source": [
    "### 1. 用逐步搜索法求方程 $f(x)=x^3-x-1=0$ 的一个有根区间，要求有根区间范围不得超过`0.1`"
   ]
  },
  {
   "cell_type": "markdown",
   "id": "f9c4cdfa-4f9d-4f59-bcab-a163b3b59600",
   "metadata": {},
   "source": [
    "从 $x=0$ 开始以步长为 1 向右搜寻：\n",
    "$$f(0)=0-0-1=-1$$  $$f(1)= 1 - 1 -1 = -2$$  $$f(2)=2^3-2-1=5$$  \n",
    "说明区间$[1, 2]$为一个有根区间。  \n",
    "区间范围超过 0.1，继续缩小区间。\n",
    "\n",
    "从 $x=1$ 开始以步长为 0.5 向右搜寻：\n",
    "$$f(1)= 1 - 1 -1 = -2$$  $$f(1.5)=1.5^3-1.5-1=0.875$$ \n",
    "说明区间$[1, 1.5]$为一个有根区间。  \n",
    "区间范围超过 0.1，继续缩小区间。\n",
    "\n",
    "从 $x=1$ 开始以步长为 0.2 向右搜寻：\n",
    "$$f(1)= 1 - 1 -1 = -2$$  $$f(1.2)=1.2^3-1.2-1=-0.472$$  $$f(1.4)=1.4^3-1.4-1=0.344$$\n",
    "说明区间$[1.2, 1.4]$为一个有根区间。  \n",
    "区间范围超过 0.1，继续缩小区间。\n",
    "\n",
    "从 $x=1.2$ 开始以步长为 0.1 向右搜寻：\n",
    "$$f(1.2)=1.2^3-1.2-1=-0.472$$  $$f(1.3)=1.3^3-1.3-1=-0.102$$  $$f(1.4)=1.4^3-1.4-1=0.344$$\n",
    "说明区间$[1.3, 1.4]$为一个有根区间。  \n",
    "符合区间范围要求。\n",
    "\n",
    "则此题的一个解为：区间$[1.3, 1.4]$"
   ]
  },
  {
   "cell_type": "markdown",
   "id": "149bd632-aad7-46ba-b142-0fe170464608",
   "metadata": {},
   "source": [
    "可以由以下代码定义一种逐步搜索法的函数："
   ]
  },
  {
   "cell_type": "code",
   "execution_count": 11,
   "id": "a45476c1-3cfa-469c-b9ec-2bf29219ffd3",
   "metadata": {},
   "outputs": [
    {
     "name": "stdout",
     "output_type": "stream",
     "text": [
      "Created file 'D:\\Users\\Arnold\\Documents\\UNDERGRATUATE\\CLASS\\Computational_method\\experiment\\stepwise.m'.\n"
     ]
    }
   ],
   "source": [
    "%%file stepwise.m\n",
    "function [lower, higher] = stepwise(f, lower, higher, step)\n",
    "    node = lower;\n",
    "    \n",
    "    while node < higher\n",
    "        if f(node)*f(node+step) < 0\n",
    "            lower = node;\n",
    "            higher = node + step;\n",
    "            break\n",
    "        end\n",
    "        \n",
    "        node = node + step;\n",
    "    end\n",
    "end"
   ]
  },
  {
   "cell_type": "markdown",
   "id": "d8a13bf0-d582-4b57-94c5-d25a4eaad384",
   "metadata": {},
   "source": [
    "则可由如下脚本解决该问题，虽然效率不及上述计算过程。"
   ]
  },
  {
   "cell_type": "code",
   "execution_count": 13,
   "id": "a146d869-f377-45b5-8b6e-2b9fa80af98d",
   "metadata": {},
   "outputs": [
    {
     "name": "stdout",
     "output_type": "stream",
     "text": [
      "\n",
      "lower =\n",
      "\n",
      "    1.3000\n",
      "\n",
      "\n",
      "higher =\n",
      "\n",
      "    1.4000\n",
      "\n",
      "\n"
     ]
    }
   ],
   "source": [
    "clear;\n",
    "f=inline('x^3-x-1','x');\n",
    "[lower, higher] = stepwise(f, 0, 10, 0.1)"
   ]
  },
  {
   "cell_type": "markdown",
   "id": "9a332792-80fb-4b87-8a91-1ed968e1dfee",
   "metadata": {},
   "source": [
    "则此题的一个解为：区间$[1.3, 1.4]$"
   ]
  },
  {
   "cell_type": "markdown",
   "id": "2658996c-9f2c-4eb5-add0-54a8e9c390ad",
   "metadata": {},
   "source": [
    "### 2. 用二分法求解方程 $f(x)=1-x-sinx=0$ 在区间 $[0, 1]$ 内的一个实根，使得误差不大于 $\\frac{1}{2}\\times 10^{-4}$"
   ]
  },
  {
   "cell_type": "markdown",
   "id": "09218f3e-004d-4fc9-b80f-43596fcbbf13",
   "metadata": {},
   "source": [
    "$$f(1) = -sin(1) = -0.8415$$  $$f(0.5) = 1 - 0.5 - sin(0.5) = 0.0205$$  $$f(0) = 1$$\n",
    "\n",
    "$$f(1) = -sin(1) = -0.8415$$  $$f(0.75) = 1 - 0.75 - sin(0.75) = -0.4316$$  $$f(0.5) = 1 - 0.5- sin(0.5) = 0.0205$$  \n",
    "\n",
    "$$f(0.75) = 1 - 0.75 - sin(0.75) = -0.4316$$  $$f(0.625) = 1 - 0.625 - sin(0.625) = -0.2101$$  $$f(0.5) = 1 - 0.5- sin(0.5) = 0.0205$$  \n",
    "\n",
    "$$f(0.625) = 1 - 0.625 - sin(0.625) = -0.2101$$  $$f(0.5625) = 1 - 0.5625- sin(0.5625) = -0.0958027$$  $$f(0.5) = 1 - 0.5- sin(0.5) = 0.0205$$\n",
    "\n",
    "$$f(0.5625) = 1 - 0.5625- sin(0.5625) = -0.0958027$$  $$f(0.53125) = 1 - 0.53125- sin(0.53125) = -0.0378615$$  $$f(0.5) = 1 - 0.5- sin(0.5) = 0.0205$$\n",
    "\n",
    "$$f(0.53125) = 1 - 0.53125- sin(0.53125) = -0.0378615$$  $$f(0.515625) = 1 - 0.515625 - sin(0.515625) = -0.00870369$$  $$f(0.5) = 1 - 0.5- sin(0.5) = 0.0205$$\n",
    "\n",
    "$$f(0.515625) = 1 - 0.515625 - sin(0.515625) = -0.00870369$$  $$f(0.507813) = 1 - 0.507813 - sin(0.507813) = 0.00592055$$  $$f(0.5) = 1 - 0.5- sin(0.5) = 0.0205$$\n",
    "\n",
    "$$f(0.515625) = 1 - 0.515625 - sin(0.515625) = -0.00870369$$  $$f(0.511719) = 1 - 0.511719 - sin(0.511719) = -0.00139577$$  $$f(0.507813) = 1 - 0.507813 - sin(0.507813) = 0.00592055$$\n",
    "\n",
    "$$...$$"
   ]
  },
  {
   "cell_type": "markdown",
   "id": "b1a208b5-caab-43e4-b68a-2027a6c28e09",
   "metadata": {},
   "source": [
    "可以由以下代码定义一种二分法求解方程的函数："
   ]
  },
  {
   "cell_type": "code",
   "execution_count": 14,
   "id": "78ef397c-607a-4fac-82a9-36826eedb79b",
   "metadata": {},
   "outputs": [
    {
     "name": "stdout",
     "output_type": "stream",
     "text": [
      "Created file 'D:\\Users\\Arnold\\Documents\\UNDERGRATUATE\\CLASS\\Computational_method\\experiment\\bisection.m'.\n"
     ]
    }
   ],
   "source": [
    "%%file bisection.m\n",
    "function [res, err] = bisection(f, lower, higher, err)\n",
    "    while f(lower)*f(higher)<0\n",
    "        mid = (lower+higher)/2;\n",
    "        \n",
    "        if f(lower)*f(mid) < 0\n",
    "            higher = mid;\n",
    "        elseif f(higher)*f(mid) < 0\n",
    "            lower = mid;\n",
    "        end\n",
    "        \n",
    "        \n",
    "        if  abs(f(mid)) < err\n",
    "            break;\n",
    "        end\n",
    "    end\n",
    "    \n",
    "    err = abs(f(mid));\n",
    "    res = mid;\n",
    "end"
   ]
  },
  {
   "cell_type": "markdown",
   "id": "05f6c1d8-8fb5-46d6-bb68-22e6942d4cff",
   "metadata": {},
   "source": [
    "则可由以下脚本解决该问题："
   ]
  },
  {
   "cell_type": "code",
   "execution_count": 1,
   "id": "251bcc57-e9e0-4a9c-917f-5338fbdc7365",
   "metadata": {},
   "outputs": [
    {
     "name": "stdout",
     "output_type": "stream",
     "text": [
      "\n",
      "res =\n",
      "\n",
      "    0.5110\n",
      "\n",
      "\n",
      "err =\n",
      "\n",
      "   2.4150e-05\n",
      "\n",
      "\n"
     ]
    }
   ],
   "source": [
    "clear;\n",
    "f = inline('1-x-sin(x)', 'x');\n",
    "[res, err] = bisection(f, 0, 1, 5e-5)"
   ]
  },
  {
   "cell_type": "markdown",
   "id": "c298586e-77d0-4ea5-8cc3-772bb02ffac6",
   "metadata": {},
   "source": [
    "### 3. 用迭代法求解方程 $f(x)=x^3-x^2-1=0$ 在区间 $[1.4, 1.6]$ 上的根，要求保留至少5位有效数字"
   ]
  },
  {
   "cell_type": "markdown",
   "id": "47993590-89f0-4c26-b921-2ff207ba9e81",
   "metadata": {},
   "source": []
  }
 ],
 "metadata": {
  "kernelspec": {
   "display_name": "Matlab",
   "language": "matlab",
   "name": "matlab"
  },
  "language_info": {
   "codemirror_mode": "octave",
   "file_extension": ".m",
   "help_links": [
    {
     "text": "MetaKernel Magics",
     "url": "https://metakernel.readthedocs.io/en/latest/source/README.html"
    }
   ],
   "mimetype": "text/x-octave",
   "name": "matlab",
   "version": "0.16.11"
  }
 },
 "nbformat": 4,
 "nbformat_minor": 5
}
